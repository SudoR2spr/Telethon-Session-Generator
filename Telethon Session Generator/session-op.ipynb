{
 "cells": [
  {
   "cell_type": "markdown",
   "metadata": {
    "id": "header-section"
   },
   "source": [
    "# Telethon Session Generator\n",
    "---\n",
    "- [ ] Install Required Packages  \n",
    "  `Show code`\n",
    "- [ ] Import Libraries  \n",
    "  `Show code`\n",
    "- [ ] API Credentials  \n",
    "  `Show code`\n",
    "- [ ] Start Session Generation  \n",
    "  `Show code`\n",
    "---"
   ]
  },
  {
   "cell_type": "code",
   "execution_count": null,
   "metadata": {
    "cellView": "form",
    "hide_input": true,
    "id": "install-section"
   },
   "outputs": [],
   "source": [
    "# @title <b>📦 Install Required Packages</b>\n",
    "!pip install telethon"
   ]
  },
  {
   "cell_type": "code",
   "execution_count": null,
   "metadata": {
    "cellView": "form",
    "hide_input": true,
    "id": "import-section"
   },
   "outputs": [],
   "source": [
    "# @title <b>📚 Import Libraries</b>\n",
    "import asyncio\n",
    "from telethon import TelegramClient\n",
    "from telethon.sessions import StringSession\n",
    "from telethon.errors import SessionPasswordNeededError\n",
    "\n",
    "# ANSI Colors\n",
    "BOLD = \"\\033[1m\"\n",
    "CYAN = \"\\033[96m\"\n",
    "GREEN = \"\\033[92m\"\n",
    "RED = \"\\033[91m\"\n",
    "MAGENTA = \"\\033[95m\"\n",
    "RESET = \"\\033[0m\""
   ]
  },
  {
   "cell_type": "code",
   "execution_count": null,
   "metadata": {
    "cellView": "form",
    "hide_input": true,
    "id": "input-section"
   },
   "outputs": [],
   "source": [
    "# @title <b>🔑 API Credentials</b>\n",
    "API_ID = int(input(f\"{BOLD}[?] Enter API ID: {RESET}\"))\n",
    "API_HASH = input(f\"{BOLD}[?] Enter API HASH: {RESET}\")\n",
    "PHONE = input(f\"{BOLD}[?] Phone Number (+1XXX): {RESET}\")"
   ]
  },
  {
   "cell_type": "code",
   "execution_count": null,
   "metadata": {
    "cellView": "form",
    "hide_input": true,
    "id": "main-section"
   },
   "outputs": [],
   "source": [
    "# @title <b>🚀 Start Session Generation</b>\n",
    "async def main():\n",
    "    client = TelegramClient(StringSession(), API_ID, API_HASH)\n",
    "    try:\n",
    "        await client.start(phone=PHONE)\n",
    "        print(f\"\\n{GREEN}[✓] Login Successful!{RESET}\")\n",
    "\n",
    "        session_string = client.session.save()\n",
    "        await client.send_message('me', \n",
    "            f\"⚠️ **✔️ Successfully Your Session String:**\\n\"\n",
    "            f\"💻 Developer: 𝐖𝐎𝐎𝐃𝐜𝐫𝐚𝐟𝐭\\n\"\n",
    "            f\"⚠️ Session Strings! You won't even share it with your girlfriend 🤭\\n\\n\"\n",
    "            f\"`{session_string}`\"\n",
    "        )\n",
    "        print(f\"{GREEN}[✓] Session Sent to Saved Messages!{RESET}\")\n",
    "\n",
    "    except SessionPasswordNeededError:\n",
    "        print(f\"{RED}[!] 2FA Required!{RESET}\")\n",
    "        password = input(f\"{BOLD}[?] 2FA Password: {RESET}\")\n",
    "        await client.start(password=password)\n",
    "        print(f\"{GREEN}[✓] 2FA Verified!{RESET}\")\n",
    "\n",
    "        session_string = client.session.save()\n",
    "        await client.send_message('me', \n",
    "            f\"⚠️ **✔️ Successfully Your Session String:**\\n\"\n",
    "            f\"💻 Developer: 𝐖𝐎𝐎𝐃𝐜𝐫𝐚𝐟𝐭\\n\"\n",
    "            f\"⚠️ Session Strings! You won't even share it with your girlfriend 🤭\\n\\n\"\n",
    "            f\"`{session_string}`\"\n",
    "        )\n",
    "        print(f\"{GREEN}[✓] Session Sent to Saved Messages!{RESET}\")\n",
    "\n",
    "    except Exception as e:\n",
    "        print(f\"{RED}[×] Error: {e}{RESET}\")\n",
    "\n",
    "    finally:\n",
    "        await client.disconnect()\n",
    "        print(f\"\\n{CYAN}{'★'*10} Security Alert {'★'*10}{RESET}\")\n",
    "        print(f\"{RED}⚠️ Never Share Session Strings!{RESET}\")\n",
    "        print(f\"{MAGENTA}⎻⎻⎻⎻⎻⎻⎻⎻⎻⎻⎻⎻⎻⎻⎻⎻⎻⎻⎻⎻⎻⎻⎻⎻⎻⎻⎻⎻⎻⎻⎻⎻⎻⎻⎻⎻⎻{RESET}\")\n",
    "        print(f\"{BOLD}👨💻 Developer: 𝐖𝐎𝐎𝐃𝐜𝐫𝐚𝐟𝐭 | 📢 Channel: https://t.me/Opleech_WD{RESET}\")\n",
    "        print(f\"{CYAN}{'★'*10} Thank You! {'★'*10}{RESET}\\n\")\n",
    "\n",
    "await main()"
   ]
  }
 ],
 "metadata": {
  "kernelspec": {
   "display_name": "Python 3",
   "language": "python",
   "name": "python3"
  },
  "language_info": {
   "codemirror_mode": {
    "name": "ipython",
    "version": 3
   },
   "file_extension": ".py",
   "mimetype": "text/x-python",
   "name": "python",
   "nbconvert_exporter": "python",
   "pygments_lexer": "ipython3",
   "version": "3.10.6"
  },
  "celltoolbar": "Hide Code"
 },
 "nbformat": 4,
 "nbformat_minor": 0
}
